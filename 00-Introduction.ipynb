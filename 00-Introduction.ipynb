{
 "cells": [
  {
   "cell_type": "markdown",
   "id": "48babea5-814d-4f22-8e10-57cc62be9453",
   "metadata": {},
   "source": [
    "# Contar a história através de visualizações\n",
    "## **AKA** *Com que então queres uma carreira em Data Science?*\n",
    "### Uma introdução ao matplotlib\n"
   ]
  },
  {
   "cell_type": "markdown",
   "id": "18c8f60e-3c01-4bb1-8935-943a0195142d",
   "metadata": {},
   "source": [
    "A competência mais importante de alguém que enverede por uma carreira em Data Science (DS) é a **paciência**.  \n",
    "Na maioria das vezes, os dados não têm a qualidade desejada, pouca coisa faz sentido, só apetece desistir.  \n",
    "Para alguém ser um DS eficaz, tem que perceber a natureza dos dados, saber prepará-los, estudar a história que os dados escondem, e saber apresentar essa história a uma plateia o mais ampla possível."
   ]
  },
  {
   "cell_type": "markdown",
   "id": "02d0b114-afec-4261-bb2a-b1496409ac26",
   "metadata": {},
   "source": [
    "![storytelling](https://pbs.twimg.com/media/FS9zbw2XsAIWcIS?format=png&name=900x900)"
   ]
  },
  {
   "cell_type": "markdown",
   "id": "a6a57ad3-34e9-42c9-8217-068c71aae9bc",
   "metadata": {},
   "source": [
    "Com este tutorial, o que se pretende é explorar o matplotlib, uma das ferramentas mais comuns de plots em python, para comunicar histórias de modo eficaz.  \n",
    "Este tutorial tem algumas influências do livro \"Storytelling with data\" de Cole Knussbaumer Knaflic.  \n",
    "![CKF](https://m.media-amazon.com/images/I/41OonY0kRWL._AC_SY780_.jpg)"
   ]
  },
  {
   "cell_type": "markdown",
   "id": "b5dbeca2-f62f-4141-863d-73f7a1ea5ce4",
   "metadata": {},
   "source": [
    "A Autora aponta seis passos importantes na construção de uma visualização:\n",
    "1. Understand the context\n",
    "1. Choose an approproate visual display\n",
    "1. Eliminate clutter\n",
    "1. Focus attention where you want it\n",
    "1. Think like a designer\n",
    "1. Tell a story\n",
    "\n",
    "Os primeiros capítulos do livro abordam a parte mais técnica, onde a autora afirma que o Excel é uma ferramenta muito útil que incorpora automaticamente alguns elementos desta cadeia de pensamento. O que se pretende aqui é um nível semelhante de proficiência em storytelling, mas com python e matplotlib."
   ]
  }
 ],
 "metadata": {
  "kernelspec": {
   "display_name": "Python 3 (ipykernel)",
   "language": "python",
   "name": "python3"
  },
  "language_info": {
   "codemirror_mode": {
    "name": "ipython",
    "version": 3
   },
   "file_extension": ".py",
   "mimetype": "text/x-python",
   "name": "python",
   "nbconvert_exporter": "python",
   "pygments_lexer": "ipython3",
   "version": "3.10.6"
  }
 },
 "nbformat": 4,
 "nbformat_minor": 5
}
